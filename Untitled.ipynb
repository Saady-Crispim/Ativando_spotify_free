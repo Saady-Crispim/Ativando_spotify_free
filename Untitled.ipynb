{
 "cells": [
  {
   "cell_type": "code",
   "execution_count": 2,
   "id": "4520d887",
   "metadata": {},
   "outputs": [],
   "source": [
    "import pyautogui\n",
    "import time\n",
    "import tkinter as tk"
   ]
  },
  {
   "cell_type": "code",
   "execution_count": 4,
   "id": "0d40b963",
   "metadata": {
    "scrolled": true
   },
   "outputs": [
    {
     "data": {
      "text/plain": [
       "Point(x=1881, y=14)"
      ]
     },
     "execution_count": 4,
     "metadata": {},
     "output_type": "execute_result"
    }
   ],
   "source": [
    "#achar a posição do mouse\n",
    "pyautogui.position()"
   ]
  },
  {
   "cell_type": "code",
   "execution_count": 32,
   "id": "5720e7cd",
   "metadata": {},
   "outputs": [],
   "source": [
    "                                            ##aprendendo comandos tkinter##\n",
    "import pyautogui\n",
    "import time\n",
    "import tkinter as tk\n",
    "\n",
    "janela =tk.Tk()\n",
    "janela.geometry('300x300') #tamanho da janela\n",
    "janela.title('a mimir') #titulo da janela\n",
    "def b():#faz o botão executar o seguinte código\n",
    "    time.sleep(1)\n",
    "    pyautogui.press('win')\n",
    "    time.sleep (5)\n",
    "    pyautogui.write(email.get())##escreve o que eu escrever na caixa de dialogo\"email\"##\n",
    "    \n",
    "    ##cria e posicionar um botão (executa o código do \"def\")##\n",
    "botao =tk.Button(text = 'aprendendo interface com tkinter', command= b)\n",
    "botao.place(relx = 0.1, rely = 0.1)\n",
    "\n",
    "    ##criar e posicionar um cabeçalho##\n",
    "ema = tk.Label (janela, text= \"email\")\n",
    "ema.grid(row= 1) #grade/ordem\n",
    "ema.place (relx=0.08, rely=0.2)\n",
    "emo = tk.Label(janela, text= \"senha\")\n",
    "emo.grid(row= 2) #grade/ordem\n",
    "emo.place(relx= 0.08, rely= 0.3)\n",
    "\n",
    "    ##criar e posicionar uma caixa de texto##\n",
    "email = tk.Entry(janela)\n",
    "senha = tk.Entry(janela)\n",
    "email.grid(row=2, column=1)\n",
    "senha.grid(row=1, column=1)\n",
    "email.place(relx= 0.2, rely= 0.2)\n",
    "senha.place(relx= 0.2, rely= 0.3)\n",
    "\n",
    "#######FINAL DO CÓDIGO#######\n",
    "janela.mainloop()"
   ]
  },
  {
   "cell_type": "code",
   "execution_count": null,
   "id": "a9fdb7db",
   "metadata": {},
   "outputs": [],
   "source": [
    "import tkinter as tk\n",
    "\n",
    "janela = tk.Tk()\n",
    "janela.geometry('200x200')\n",
    "def a():\n",
    "    # abre o spotify atraves do powershell, detalhe sem anuncios\n",
    "    import pyautogui\n",
    "    import time\n",
    "\n",
    "    pyautogui.click(x=13, y=1827)\n",
    "    time.sleep(1)\n",
    "    pyautogui.write('power shel')\n",
    "    time.sleep(1)\n",
    "    pyautogui.press('enter')\n",
    "    time.sleep(1)\n",
    "\n",
    "    pyautogui.write('iwr -useb https://raw.githubusercontent.com/spicetify/spicetify-cli/master/install.ps1 | iex')\n",
    "    pyautogui.press('enter')\n",
    "    time.sleep(10)\n",
    "    pyautogui.write(\n",
    "        'iwr -useb https://raw.githubusercontent.com/spicetify/spicetify-marketplace/main/resources/install.ps1 | iex')\n",
    "    pyautogui.press('enter')\n",
    "    time.sleep(20)\n",
    "    pyautogui.write('y')\n",
    "    pyautogui.press('enter')\n",
    "\n",
    "botao =tk.Button(text = 'spotify de graça hehe', command= a)\n",
    "\n",
    "botao.place(relx = 0.15, rely = 0.2)\n",
    "\n",
    "\n",
    "janela.mainloop()\n"
   ]
  },
  {
   "cell_type": "code",
   "execution_count": 3,
   "id": "aca35e42",
   "metadata": {},
   "outputs": [
    {
     "name": "stdout",
     "output_type": "stream",
     "text": [
      "pygame 2.3.0 (SDL 2.24.2, Python 3.10.9)\n",
      "Hello from the pygame community. https://www.pygame.org/contribute.html\n"
     ]
    }
   ],
   "source": [
    "import pygame"
   ]
  }
 ],
 "metadata": {
  "kernelspec": {
   "display_name": "Python 3 (ipykernel)",
   "language": "python",
   "name": "python3"
  },
  "language_info": {
   "codemirror_mode": {
    "name": "ipython",
    "version": 3
   },
   "file_extension": ".py",
   "mimetype": "text/x-python",
   "name": "python",
   "nbconvert_exporter": "python",
   "pygments_lexer": "ipython3",
   "version": "3.10.9"
  }
 },
 "nbformat": 4,
 "nbformat_minor": 5
}
